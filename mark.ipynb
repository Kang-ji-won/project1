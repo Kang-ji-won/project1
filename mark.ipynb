{
 "cells": [
  {
   "cell_type": "code",
   "execution_count": null,
   "metadata": {},
   "outputs": [],
   "source": []
  },
  {
   "cell_type": "markdown",
   "metadata": {},
   "source": [
    "제목1\n",
    "=\n",
    "\n",
    "부제목\n",
    "-\n",
    "\n",
    "# h1\n",
    "### h3\n",
    "###### h6\n",
    "\n",
    "> content1\n",
    ">   > content2\n",
    ">   >   > content3"
   ]
  },
  {
   "cell_type": "markdown",
   "metadata": {},
   "source": [
    "## list\n",
    "\n",
    "1. 첫번째\n",
    "2. 두번째\n",
    "3. 세번째\n",
    "\n",
    "* 리스트1\n",
    "    + 리스트2\n",
    "        - 리스트3"
   ]
  },
  {
   "cell_type": "markdown",
   "metadata": {},
   "source": [
    "### code\n",
    "\n",
    "```\n",
    "    var i = 0\n",
    "```\n",
    "\n",
    "code end"
   ]
  },
  {
   "cell_type": "markdown",
   "metadata": {},
   "source": [
    "--------"
   ]
  },
  {
   "cell_type": "markdown",
   "metadata": {},
   "source": [
    "****"
   ]
  },
  {
   "cell_type": "markdown",
   "metadata": {},
   "source": [
    "[Google][googlelink]\n",
    "\n",
    "[googlelink]: http://www.google.com"
   ]
  },
  {
   "cell_type": "markdown",
   "metadata": {},
   "source": [
    "![Alt text](https://search.pstatic.net/common/?src=http%3A%2F%2Fblogfiles.naver.net%2F20160922_189%2Fmeong-s_14745509453375Yb1Q_JPEG%2FIMG_3100.JPG&type=a340)"
   ]
  },
  {
   "cell_type": "markdown",
   "metadata": {},
   "source": [
    "![Alt text](https://search.pstatic.net/common/?src=http%3A%2F%2Fcafefiles.naver.net%2FMjAxOTEwMDRfMjQ4%2FMDAxNTcwMTg0Njc0ODE1.eK9dYz0PNksnEngvITlxgD1Yheq0YICE6NlKdXSXxkcg.0mNWsCCqurEq7WCwfQUpFa-O9dTi7KNH089yYZK8Qqgg.JPEG%2F5.jpg&type=a340)\n",
    "\n",
    "<img src = \"https://search.pstatic.net/common/?src=http%3A%2F%2Fcafefiles.naver.net%2FMjAxOTEwMDRfMjQ4%2FMDAxNTcwMTg0Njc0ODE1.eK9dYz0PNksnEngvITlxgD1Yheq0YICE6NlKdXSXxkcg.0mNWsCCqurEq7WCwfQUpFa-O9dTi7KNH089yYZK8Qqgg.JPEG%2F5.jpg&type=a340\" width = \"120%\">"
   ]
  },
  {
   "cell_type": "markdown",
   "metadata": {},
   "source": [
    "![Alt text](https://search.pstatic.net/common/?src=http%3A%2F%2Fblogfiles.naver.net%2FMjAyMTEyMzBfMTk0%2FMDAxNjQwODMyNjQxMTg3.NZ8JflG25n7wmphcSIB7IkjRNV1VovVIsYJUsILoP2Eg.F_o3LFu2yU7J4p4gFxYfm_elZXqH972VES-moevXWngg.JPEG.rlen0325%2F%25B2%25C7%25C0%25CC2.jpg&type=a340)"
   ]
  },
  {
   "cell_type": "markdown",
   "metadata": {},
   "source": []
  }
 ],
 "metadata": {
  "interpreter": {
   "hash": "0b670cee65caf78ddcc137c483014aacdcafe88c2d6d2a284d13df6884eec2b6"
  },
  "kernelspec": {
   "display_name": "Python 3.10.2 64-bit",
   "language": "python",
   "name": "python3"
  },
  "language_info": {
   "name": "python",
   "version": "3.10.2"
  },
  "orig_nbformat": 4
 },
 "nbformat": 4,
 "nbformat_minor": 2
}
