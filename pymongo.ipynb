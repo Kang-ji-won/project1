{
 "cells": [
  {
   "cell_type": "code",
   "execution_count": 1,
   "metadata": {},
   "outputs": [],
   "source": [
    "from pymongo import MongoClient"
   ]
  },
  {
   "cell_type": "code",
   "execution_count": 2,
   "metadata": {},
   "outputs": [],
   "source": [
    "Client = MongoClient(\n",
    "    host = 'localhost',\n",
    "    port = 27017\n",
    ")"
   ]
  },
  {
   "cell_type": "code",
   "execution_count": 3,
   "metadata": {},
   "outputs": [
    {
     "data": {
      "text/plain": [
       "['admin', 'config', 'local', 'test', 'ubion']"
      ]
     },
     "execution_count": 3,
     "metadata": {},
     "output_type": "execute_result"
    }
   ],
   "source": [
    "Client.list_database_names()"
   ]
  },
  {
   "cell_type": "code",
   "execution_count": 4,
   "metadata": {},
   "outputs": [
    {
     "data": {
      "text/plain": [
       "[{'_id': ObjectId('62328e7d67d47a2bb1e0dc1b'),\n",
       "  'name': 'test',\n",
       "  'phone': '01012345678'}]"
      ]
     },
     "execution_count": 4,
     "metadata": {},
     "output_type": "execute_result"
    }
   ],
   "source": [
    "db = Client['ubion']\n",
    "list(db.test.find()) # class에 있는 속성값을 불러오는 행동"
   ]
  },
  {
   "cell_type": "code",
   "execution_count": 9,
   "metadata": {},
   "outputs": [
    {
     "data": {
      "text/plain": [
       "<pymongo.results.InsertOneResult at 0x1545ce63440>"
      ]
     },
     "execution_count": 9,
     "metadata": {},
     "output_type": "execute_result"
    }
   ],
   "source": [
    "data = {\n",
    "    \"1\":\"1\",\n",
    "    \"2\":\"2\",\n",
    "}\n",
    "db.test.insert_one(data)"
   ]
  },
  {
   "cell_type": "code",
   "execution_count": 14,
   "metadata": {},
   "outputs": [
    {
     "data": {
      "text/plain": [
       "<pymongo.results.InsertManyResult at 0x1545edaaf00>"
      ]
     },
     "execution_count": 14,
     "metadata": {},
     "output_type": "execute_result"
    }
   ],
   "source": [
    "data2 = [{\n",
    "    \"lunch\" : \"pizza\"\n",
    "},{\n",
    "    \"dinner\" : \"rice\",\n",
    "    \"breakfast\" : \"bread\"\n",
    "}]\n",
    "db.test.insert_many(data2)"
   ]
  },
  {
   "cell_type": "code",
   "execution_count": 15,
   "metadata": {},
   "outputs": [
    {
     "data": {
      "text/plain": [
       "[{'_id': ObjectId('623290e48bf7f3193cf9e5a5'), 'loc': 'Seoul'},\n",
       " {'_id': ObjectId('623290e48bf7f3193cf9e5a6'),\n",
       "  'gender': 'female',\n",
       "  'age': 20.0,\n",
       "  'hobby': 'soccer'},\n",
       " {'_id': ObjectId('623297ed38bb8ba60baf9138'), '1': '1', '2': '2'},\n",
       " {'_id': ObjectId('623298ed38bb8ba60baf9139'), 'lunch': 'pizza'},\n",
       " {'_id': ObjectId('623298ed38bb8ba60baf913a'),\n",
       "  'dinner': 'rice',\n",
       "  'breakfast': 'bread'},\n",
       " {'_id': ObjectId('623298fa38bb8ba60baf913b'), 'lunch': 'pizza'},\n",
       " {'_id': ObjectId('623298fa38bb8ba60baf913c'),\n",
       "  'dinner': 'rice',\n",
       "  'breakfast': 'bread'},\n",
       " {'_id': ObjectId('623298ff38bb8ba60baf913d'), 'lunch': 'pizza'},\n",
       " {'_id': ObjectId('623298ff38bb8ba60baf913e'),\n",
       "  'dinner': 'rice',\n",
       "  'breakfast': 'bread'}]"
      ]
     },
     "execution_count": 15,
     "metadata": {},
     "output_type": "execute_result"
    }
   ],
   "source": [
    "list(db.test.find())"
   ]
  },
  {
   "cell_type": "code",
   "execution_count": 20,
   "metadata": {},
   "outputs": [],
   "source": [
    "from modules import mod_sql\n",
    "import pandas as pd"
   ]
  },
  {
   "cell_type": "code",
   "execution_count": 17,
   "metadata": {},
   "outputs": [],
   "source": [
    "_db = mod_sql.Database()"
   ]
  },
  {
   "cell_type": "code",
   "execution_count": 21,
   "metadata": {},
   "outputs": [],
   "source": [
    "sql = \"\"\"\n",
    "        SELECT * FROM emp\n",
    "    \"\"\"\n",
    "result = _db.executeAll(sql)\n",
    "result = pd.DataFrame(result)"
   ]
  },
  {
   "cell_type": "code",
   "execution_count": 42,
   "metadata": {},
   "outputs": [
    {
     "data": {
      "text/plain": [
       "{'_id': ObjectId('6232b71828e9c474dad71b3c'),\n",
       " 'EMPNO': '7369',\n",
       " 'ENAME': 'SMITH',\n",
       " 'JOB': 'CLERK',\n",
       " 'MGR': '7902',\n",
       " 'HIREDATE': '1980-12-17',\n",
       " 'SAL': '800.00',\n",
       " 'DEPTNO': '20'}"
      ]
     },
     "execution_count": 42,
     "metadata": {},
     "output_type": "execute_result"
    }
   ],
   "source": [
    "db.emp.find_one()"
   ]
  },
  {
   "cell_type": "code",
   "execution_count": 5,
   "metadata": {},
   "outputs": [
    {
     "data": {
      "text/plain": [
       "[{'_id': ObjectId('6232b71828e9c474dad71b3c'),\n",
       "  'EMPNO': '7369',\n",
       "  'ENAME': 'SMITH',\n",
       "  'JOB': 'CLERK',\n",
       "  'MGR': '7902',\n",
       "  'HIREDATE': '1980-12-17',\n",
       "  'SAL': '800.00',\n",
       "  'DEPTNO': '20'}]"
      ]
     },
     "execution_count": 5,
     "metadata": {},
     "output_type": "execute_result"
    }
   ],
   "source": [
    "# SELECT문의 WHERE과 동일\n",
    "list(db.emp.find(\n",
    "    {\n",
    "        \"ENAME\" : \"SMITH\"\n",
    "    }\n",
    "))"
   ]
  },
  {
   "cell_type": "code",
   "execution_count": 7,
   "metadata": {},
   "outputs": [],
   "source": [
    "# SELECT문의 WHERE과 동일\n",
    "result = db.emp.find(\n",
    "    {}, # where 조건을 쓸 때 사용하는 공간\n",
    "    {\"ENAME\" : 1,\n",
    "    \"ENPNO\" : 1,\n",
    "    \"DEPTNO\" : 1} # key의 값을 선택할 수 있는 공간 \n",
    ")\n",
    "\n",
    "# sql문으로 바꾼다면, \n",
    "# SELECT EMPNO, ENAME, DEPTNO FROM emp;"
   ]
  },
  {
   "cell_type": "code",
   "execution_count": 8,
   "metadata": {},
   "outputs": [
    {
     "name": "stdout",
     "output_type": "stream",
     "text": [
      "{'_id': ObjectId('6232b71828e9c474dad71b3c'), 'ENAME': 'SMITH', 'DEPTNO': '20'}\n",
      "{'_id': ObjectId('6232b71828e9c474dad71b3d'), 'ENAME': 'ALLEN', 'DEPTNO': '30'}\n",
      "{'_id': ObjectId('6232b71828e9c474dad71b3e'), 'ENAME': 'WARD', 'DEPTNO': '30'}\n",
      "{'_id': ObjectId('6232b71828e9c474dad71b3f'), 'ENAME': 'JONES', 'DEPTNO': '20'}\n",
      "{'_id': ObjectId('6232b71828e9c474dad71b40'), 'ENAME': 'MARTIN', 'DEPTNO': '30'}\n",
      "{'_id': ObjectId('6232b71828e9c474dad71b41'), 'ENAME': 'BLAKE', 'DEPTNO': '30'}\n",
      "{'_id': ObjectId('6232b71828e9c474dad71b42'), 'ENAME': 'CLARK', 'DEPTNO': '10'}\n",
      "{'_id': ObjectId('6232b71828e9c474dad71b43'), 'ENAME': 'SCOTT', 'DEPTNO': '20'}\n",
      "{'_id': ObjectId('6232b71828e9c474dad71b44'), 'ENAME': 'KING', 'DEPTNO': '10'}\n",
      "{'_id': ObjectId('6232b71828e9c474dad71b45'), 'ENAME': 'TURNER', 'DEPTNO': '30'}\n",
      "{'_id': ObjectId('6232b71828e9c474dad71b46'), 'ENAME': 'ADAMS', 'DEPTNO': '20'}\n",
      "{'_id': ObjectId('6232b71828e9c474dad71b47'), 'ENAME': 'JAMES', 'DEPTNO': '30'}\n",
      "{'_id': ObjectId('6232b71828e9c474dad71b48'), 'ENAME': 'FORD', 'DEPTNO': '20'}\n",
      "{'_id': ObjectId('6232b71828e9c474dad71b49'), 'ENAME': 'MILLER', 'DEPTNO': '10'}\n"
     ]
    }
   ],
   "source": [
    "for list in result:\n",
    "    print(list)"
   ]
  },
  {
   "cell_type": "code",
   "execution_count": 14,
   "metadata": {},
   "outputs": [
    {
     "name": "stdout",
     "output_type": "stream",
     "text": [
      "{'DEPTNO': '20',\n",
      " 'EMPNO': '7876',\n",
      " 'ENAME': 'ADAMS',\n",
      " 'HIREDATE': '1987-07-13',\n",
      " 'JOB': 'CLERK',\n",
      " 'MGR': '7788',\n",
      " 'SAL': '1100.00',\n",
      " '_id': ObjectId('6232b71828e9c474dad71b46')}\n",
      "{'COMM': '300.00',\n",
      " 'DEPTNO': '30',\n",
      " 'EMPNO': '7499',\n",
      " 'ENAME': 'ALLEN',\n",
      " 'HIREDATE': '1981-02-20',\n",
      " 'JOB': 'SALESMAN',\n",
      " 'MGR': '7698',\n",
      " 'SAL': '1600.00',\n",
      " '_id': ObjectId('6232b71828e9c474dad71b3d')}\n",
      "{'DEPTNO': '30',\n",
      " 'EMPNO': '7698',\n",
      " 'ENAME': 'BLAKE',\n",
      " 'HIREDATE': '1981-05-01',\n",
      " 'JOB': 'MANAGER',\n",
      " 'MGR': '7839',\n",
      " 'SAL': '2850.00',\n",
      " '_id': ObjectId('6232b71828e9c474dad71b41')}\n",
      "{'DEPTNO': '10',\n",
      " 'EMPNO': '7782',\n",
      " 'ENAME': 'CLARK',\n",
      " 'HIREDATE': '1981-06-09',\n",
      " 'JOB': 'MANAGER',\n",
      " 'MGR': '7839',\n",
      " 'SAL': '2450.00',\n",
      " '_id': ObjectId('6232b71828e9c474dad71b42')}\n",
      "{'DEPTNO': '20',\n",
      " 'EMPNO': '7902',\n",
      " 'ENAME': 'FORD',\n",
      " 'HIREDATE': '1981-12-03',\n",
      " 'JOB': 'ANALYST',\n",
      " 'MGR': '7566',\n",
      " 'SAL': '3000.00',\n",
      " '_id': ObjectId('6232b71828e9c474dad71b48')}\n",
      "{'DEPTNO': '30',\n",
      " 'EMPNO': '7900',\n",
      " 'ENAME': 'JAMES',\n",
      " 'HIREDATE': '1981-12-03',\n",
      " 'JOB': 'CLERK',\n",
      " 'MGR': '7698',\n",
      " 'SAL': '950.00',\n",
      " '_id': ObjectId('6232b71828e9c474dad71b47')}\n",
      "{'DEPTNO': '20',\n",
      " 'EMPNO': '7566',\n",
      " 'ENAME': 'JONES',\n",
      " 'HIREDATE': '1981-04-02',\n",
      " 'JOB': 'MANAGER',\n",
      " 'MGR': '7839',\n",
      " 'SAL': '2975.00',\n",
      " '_id': ObjectId('6232b71828e9c474dad71b3f')}\n",
      "{'DEPTNO': '10',\n",
      " 'EMPNO': '7839',\n",
      " 'ENAME': 'KING',\n",
      " 'HIREDATE': '1981-11-17',\n",
      " 'JOB': 'PRESIDENT',\n",
      " 'SAL': '5000.00',\n",
      " '_id': ObjectId('6232b71828e9c474dad71b44')}\n",
      "{'COMM': '1400.00',\n",
      " 'DEPTNO': '30',\n",
      " 'EMPNO': '7654',\n",
      " 'ENAME': 'MARTIN',\n",
      " 'HIREDATE': '1981-09-28',\n",
      " 'JOB': 'SALESMAN',\n",
      " 'MGR': '7698',\n",
      " 'SAL': '1250.00',\n",
      " '_id': ObjectId('6232b71828e9c474dad71b40')}\n",
      "{'DEPTNO': '10',\n",
      " 'EMPNO': '7934',\n",
      " 'ENAME': 'MILLER',\n",
      " 'HIREDATE': '1982-01-23',\n",
      " 'JOB': 'CLERK',\n",
      " 'MGR': '7782',\n",
      " 'SAL': '1300.00',\n",
      " '_id': ObjectId('6232b71828e9c474dad71b49')}\n",
      "{'DEPTNO': '20',\n",
      " 'EMPNO': '7788',\n",
      " 'ENAME': 'SCOTT',\n",
      " 'HIREDATE': '1987-06-28',\n",
      " 'JOB': 'ANALYST',\n",
      " 'MGR': '7566',\n",
      " 'SAL': '3000.00',\n",
      " '_id': ObjectId('6232b71828e9c474dad71b43')}\n",
      "{'DEPTNO': '20',\n",
      " 'EMPNO': '7369',\n",
      " 'ENAME': 'SMITH',\n",
      " 'HIREDATE': '1980-12-17',\n",
      " 'JOB': 'CLERK',\n",
      " 'MGR': '7902',\n",
      " 'SAL': '800.00',\n",
      " '_id': ObjectId('6232b71828e9c474dad71b3c')}\n",
      "{'COMM': '0.00',\n",
      " 'DEPTNO': '30',\n",
      " 'EMPNO': '7844',\n",
      " 'ENAME': 'TURNER',\n",
      " 'HIREDATE': '1981-09-08',\n",
      " 'JOB': 'SALESMAN',\n",
      " 'MGR': '7698',\n",
      " 'SAL': '1500.00',\n",
      " '_id': ObjectId('6232b71828e9c474dad71b45')}\n",
      "{'COMM': '500.00',\n",
      " 'DEPTNO': '30',\n",
      " 'EMPNO': '7521',\n",
      " 'ENAME': 'WARD',\n",
      " 'HIREDATE': '1981-02-22',\n",
      " 'JOB': 'SALESMAN',\n",
      " 'MGR': '7698',\n",
      " 'SAL': '1250.00',\n",
      " '_id': ObjectId('6232b71828e9c474dad71b3e')}\n"
     ]
    }
   ],
   "source": [
    "import pprint\n",
    "\n",
    "result = db.emp.find().sort(\"ENAME\")\n",
    "\n",
    "for list in result:\n",
    "    pprint.pprint(list)"
   ]
  },
  {
   "cell_type": "code",
   "execution_count": 25,
   "metadata": {},
   "outputs": [
    {
     "ename": "TypeError",
     "evalue": "'dict' object is not callable",
     "output_type": "error",
     "traceback": [
      "\u001b[1;31m---------------------------------------------------------------------------\u001b[0m",
      "\u001b[1;31mTypeError\u001b[0m                                 Traceback (most recent call last)",
      "\u001b[1;32mc:\\Users\\rkd_w\\OneDrive\\바탕 화면\\금융 빅데이터 분석 과정\\수업자료\\mongo\\pymongo.ipynb Cell 16'\u001b[0m in \u001b[0;36m<module>\u001b[1;34m\u001b[0m\n\u001b[0;32m      <a href='vscode-notebook-cell:/c%3A/Users/rkd_w/OneDrive/%EB%B0%94%ED%83%95%20%ED%99%94%EB%A9%B4/%EA%B8%88%EC%9C%B5%20%EB%B9%85%EB%8D%B0%EC%9D%B4%ED%84%B0%20%EB%B6%84%EC%84%9D%20%EA%B3%BC%EC%A0%95/%EC%88%98%EC%97%85%EC%9E%90%EB%A3%8C/mongo/pymongo.ipynb#ch0000018?line=0'>1</a>\u001b[0m \u001b[39m# 2450보다 크거나 같은 데이터만 출력\u001b[39;00m\n\u001b[1;32m----> <a href='vscode-notebook-cell:/c%3A/Users/rkd_w/OneDrive/%EB%B0%94%ED%83%95%20%ED%99%94%EB%A9%B4/%EA%B8%88%EC%9C%B5%20%EB%B9%85%EB%8D%B0%EC%9D%B4%ED%84%B0%20%EB%B6%84%EC%84%9D%20%EA%B3%BC%EC%A0%95/%EC%88%98%EC%97%85%EC%9E%90%EB%A3%8C/mongo/pymongo.ipynb#ch0000018?line=1'>2</a>\u001b[0m result \u001b[39m=\u001b[39m \u001b[39mlist\u001b[39;49m(db\u001b[39m.\u001b[39;49memp\u001b[39m.\u001b[39;49mfind(\n\u001b[0;32m      <a href='vscode-notebook-cell:/c%3A/Users/rkd_w/OneDrive/%EB%B0%94%ED%83%95%20%ED%99%94%EB%A9%B4/%EA%B8%88%EC%9C%B5%20%EB%B9%85%EB%8D%B0%EC%9D%B4%ED%84%B0%20%EB%B6%84%EC%84%9D%20%EA%B3%BC%EC%A0%95/%EC%88%98%EC%97%85%EC%9E%90%EB%A3%8C/mongo/pymongo.ipynb#ch0000018?line=2'>3</a>\u001b[0m     {\n\u001b[0;32m      <a href='vscode-notebook-cell:/c%3A/Users/rkd_w/OneDrive/%EB%B0%94%ED%83%95%20%ED%99%94%EB%A9%B4/%EA%B8%88%EC%9C%B5%20%EB%B9%85%EB%8D%B0%EC%9D%B4%ED%84%B0%20%EB%B6%84%EC%84%9D%20%EA%B3%BC%EC%A0%95/%EC%88%98%EC%97%85%EC%9E%90%EB%A3%8C/mongo/pymongo.ipynb#ch0000018?line=3'>4</a>\u001b[0m         \u001b[39m\"\u001b[39;49m\u001b[39mSAL\u001b[39;49m\u001b[39m\"\u001b[39;49m : {\n\u001b[0;32m      <a href='vscode-notebook-cell:/c%3A/Users/rkd_w/OneDrive/%EB%B0%94%ED%83%95%20%ED%99%94%EB%A9%B4/%EA%B8%88%EC%9C%B5%20%EB%B9%85%EB%8D%B0%EC%9D%B4%ED%84%B0%20%EB%B6%84%EC%84%9D%20%EA%B3%BC%EC%A0%95/%EC%88%98%EC%97%85%EC%9E%90%EB%A3%8C/mongo/pymongo.ipynb#ch0000018?line=4'>5</a>\u001b[0m             \u001b[39m\"\u001b[39;49m\u001b[39m$gte\u001b[39;49m\u001b[39m\"\u001b[39;49m : \u001b[39m2450\u001b[39;49m\n\u001b[0;32m      <a href='vscode-notebook-cell:/c%3A/Users/rkd_w/OneDrive/%EB%B0%94%ED%83%95%20%ED%99%94%EB%A9%B4/%EA%B8%88%EC%9C%B5%20%EB%B9%85%EB%8D%B0%EC%9D%B4%ED%84%B0%20%EB%B6%84%EC%84%9D%20%EA%B3%BC%EC%A0%95/%EC%88%98%EC%97%85%EC%9E%90%EB%A3%8C/mongo/pymongo.ipynb#ch0000018?line=5'>6</a>\u001b[0m         }\n\u001b[0;32m      <a href='vscode-notebook-cell:/c%3A/Users/rkd_w/OneDrive/%EB%B0%94%ED%83%95%20%ED%99%94%EB%A9%B4/%EA%B8%88%EC%9C%B5%20%EB%B9%85%EB%8D%B0%EC%9D%B4%ED%84%B0%20%EB%B6%84%EC%84%9D%20%EA%B3%BC%EC%A0%95/%EC%88%98%EC%97%85%EC%9E%90%EB%A3%8C/mongo/pymongo.ipynb#ch0000018?line=6'>7</a>\u001b[0m     }\n\u001b[0;32m      <a href='vscode-notebook-cell:/c%3A/Users/rkd_w/OneDrive/%EB%B0%94%ED%83%95%20%ED%99%94%EB%A9%B4/%EA%B8%88%EC%9C%B5%20%EB%B9%85%EB%8D%B0%EC%9D%B4%ED%84%B0%20%EB%B6%84%EC%84%9D%20%EA%B3%BC%EC%A0%95/%EC%88%98%EC%97%85%EC%9E%90%EB%A3%8C/mongo/pymongo.ipynb#ch0000018?line=7'>8</a>\u001b[0m ))\n\u001b[0;32m     <a href='vscode-notebook-cell:/c%3A/Users/rkd_w/OneDrive/%EB%B0%94%ED%83%95%20%ED%99%94%EB%A9%B4/%EA%B8%88%EC%9C%B5%20%EB%B9%85%EB%8D%B0%EC%9D%B4%ED%84%B0%20%EB%B6%84%EC%84%9D%20%EA%B3%BC%EC%A0%95/%EC%88%98%EC%97%85%EC%9E%90%EB%A3%8C/mongo/pymongo.ipynb#ch0000018?line=9'>10</a>\u001b[0m \u001b[39mfor\u001b[39;00m \u001b[39mlist\u001b[39m \u001b[39min\u001b[39;00m result:\n\u001b[0;32m     <a href='vscode-notebook-cell:/c%3A/Users/rkd_w/OneDrive/%EB%B0%94%ED%83%95%20%ED%99%94%EB%A9%B4/%EA%B8%88%EC%9C%B5%20%EB%B9%85%EB%8D%B0%EC%9D%B4%ED%84%B0%20%EB%B6%84%EC%84%9D%20%EA%B3%BC%EC%A0%95/%EC%88%98%EC%97%85%EC%9E%90%EB%A3%8C/mongo/pymongo.ipynb#ch0000018?line=10'>11</a>\u001b[0m     \u001b[39mprint\u001b[39m(\u001b[39mlist\u001b[39m)\n",
      "\u001b[1;31mTypeError\u001b[0m: 'dict' object is not callable"
     ]
    }
   ],
   "source": [
    "# $gte : 2450보다 크거나 같은 데이터만 출력\n",
    "result = list(db.emp.find(\n",
    "    {\n",
    "        \"SAL\" : {\n",
    "            \"$gte\" : 2450\n",
    "        }\n",
    "    }\n",
    "))\n",
    "\n",
    "for list in result:\n",
    "    print(list)"
   ]
  },
  {
   "cell_type": "code",
   "execution_count": null,
   "metadata": {},
   "outputs": [],
   "source": [
    "# $lt : 2450보다 작은 데이터만 출력\n",
    "result = list(db.emp.find(\n",
    "    {\n",
    "        \"SAL\" : {\n",
    "            \"$lt\" : 2450\n",
    "        }\n",
    "    }\n",
    "))\n",
    "\n",
    "for list in result:\n",
    "    print(list)"
   ]
  },
  {
   "cell_type": "markdown",
   "metadata": {},
   "source": [
    "### 2022/03/18"
   ]
  },
  {
   "cell_type": "code",
   "execution_count": 9,
   "metadata": {},
   "outputs": [
    {
     "data": {
      "text/html": [
       "<div>\n",
       "<style scoped>\n",
       "    .dataframe tbody tr th:only-of-type {\n",
       "        vertical-align: middle;\n",
       "    }\n",
       "\n",
       "    .dataframe tbody tr th {\n",
       "        vertical-align: top;\n",
       "    }\n",
       "\n",
       "    .dataframe thead th {\n",
       "        text-align: right;\n",
       "    }\n",
       "</style>\n",
       "<table border=\"1\" class=\"dataframe\">\n",
       "  <thead>\n",
       "    <tr style=\"text-align: right;\">\n",
       "      <th></th>\n",
       "      <th>_id</th>\n",
       "      <th>EMPNO</th>\n",
       "      <th>ENAME</th>\n",
       "      <th>JOB</th>\n",
       "      <th>MGR</th>\n",
       "      <th>HIREDATE</th>\n",
       "      <th>SAL</th>\n",
       "      <th>DEPTNO</th>\n",
       "      <th>COMM</th>\n",
       "    </tr>\n",
       "  </thead>\n",
       "  <tbody>\n",
       "    <tr>\n",
       "      <th>0</th>\n",
       "      <td>6232b71828e9c474dad71b3c</td>\n",
       "      <td>7369</td>\n",
       "      <td>SMITH</td>\n",
       "      <td>CLERK</td>\n",
       "      <td>7902</td>\n",
       "      <td>1980-12-17</td>\n",
       "      <td>800.00</td>\n",
       "      <td>20</td>\n",
       "      <td>NaN</td>\n",
       "    </tr>\n",
       "    <tr>\n",
       "      <th>1</th>\n",
       "      <td>6232b71828e9c474dad71b3d</td>\n",
       "      <td>7499</td>\n",
       "      <td>ALLEN</td>\n",
       "      <td>SALESMAN</td>\n",
       "      <td>7698</td>\n",
       "      <td>1981-02-20</td>\n",
       "      <td>1600.00</td>\n",
       "      <td>30</td>\n",
       "      <td>300.00</td>\n",
       "    </tr>\n",
       "  </tbody>\n",
       "</table>\n",
       "</div>"
      ],
      "text/plain": [
       "                        _id EMPNO  ENAME       JOB   MGR    HIREDATE      SAL  \\\n",
       "0  6232b71828e9c474dad71b3c  7369  SMITH     CLERK  7902  1980-12-17   800.00   \n",
       "1  6232b71828e9c474dad71b3d  7499  ALLEN  SALESMAN  7698  1981-02-20  1600.00   \n",
       "\n",
       "  DEPTNO    COMM  \n",
       "0     20     NaN  \n",
       "1     30  300.00  "
      ]
     },
     "execution_count": 9,
     "metadata": {},
     "output_type": "execute_result"
    }
   ],
   "source": [
    "import pandas as pd\n",
    "\n",
    "result = db.emp.find()\n",
    "pd.DataFrame(result).head(2)"
   ]
  },
  {
   "cell_type": "code",
   "execution_count": 11,
   "metadata": {},
   "outputs": [],
   "source": [
    "# update_one은 조건에 부합하는 데이터가 여러개이더라도 하나의 값만 바뀜\n",
    "# 조건에 맞는 모든 데이터를 바꾸고 싶다면 update_many를 사용함.\n",
    "result = db.emp.update_one(\n",
    "    {\n",
    "        \"ENAME\" : \"SMITH\"\n",
    "    },\n",
    "    {\n",
    "        \"$set\" : {\n",
    "            \"SAL\" : 880\n",
    "        }\n",
    "    }\n",
    ")\n"
   ]
  },
  {
   "cell_type": "code",
   "execution_count": 12,
   "metadata": {},
   "outputs": [
    {
     "data": {
      "text/html": [
       "<div>\n",
       "<style scoped>\n",
       "    .dataframe tbody tr th:only-of-type {\n",
       "        vertical-align: middle;\n",
       "    }\n",
       "\n",
       "    .dataframe tbody tr th {\n",
       "        vertical-align: top;\n",
       "    }\n",
       "\n",
       "    .dataframe thead th {\n",
       "        text-align: right;\n",
       "    }\n",
       "</style>\n",
       "<table border=\"1\" class=\"dataframe\">\n",
       "  <thead>\n",
       "    <tr style=\"text-align: right;\">\n",
       "      <th></th>\n",
       "      <th>_id</th>\n",
       "      <th>EMPNO</th>\n",
       "      <th>ENAME</th>\n",
       "      <th>JOB</th>\n",
       "      <th>MGR</th>\n",
       "      <th>HIREDATE</th>\n",
       "      <th>SAL</th>\n",
       "      <th>DEPTNO</th>\n",
       "    </tr>\n",
       "  </thead>\n",
       "  <tbody>\n",
       "    <tr>\n",
       "      <th>0</th>\n",
       "      <td>6232b71828e9c474dad71b3c</td>\n",
       "      <td>7369</td>\n",
       "      <td>SMITH</td>\n",
       "      <td>CLERK</td>\n",
       "      <td>7902</td>\n",
       "      <td>1980-12-17</td>\n",
       "      <td>880</td>\n",
       "      <td>20</td>\n",
       "    </tr>\n",
       "    <tr>\n",
       "      <th>1</th>\n",
       "      <td>6232c6cd28e9c474dad71b4a</td>\n",
       "      <td>7369</td>\n",
       "      <td>SMITH</td>\n",
       "      <td>CLERK</td>\n",
       "      <td>7902</td>\n",
       "      <td>1980-12-17</td>\n",
       "      <td>800</td>\n",
       "      <td>20</td>\n",
       "    </tr>\n",
       "  </tbody>\n",
       "</table>\n",
       "</div>"
      ],
      "text/plain": [
       "                        _id EMPNO  ENAME    JOB   MGR    HIREDATE  SAL DEPTNO\n",
       "0  6232b71828e9c474dad71b3c  7369  SMITH  CLERK  7902  1980-12-17  880     20\n",
       "1  6232c6cd28e9c474dad71b4a  7369  SMITH  CLERK  7902  1980-12-17  800     20"
      ]
     },
     "execution_count": 12,
     "metadata": {},
     "output_type": "execute_result"
    }
   ],
   "source": [
    "result = db.emp.find({\n",
    "    \"ENAME\" : \"SMITH\"\n",
    "})\n",
    "\n",
    "pd.DataFrame(result)"
   ]
  },
  {
   "cell_type": "code",
   "execution_count": 13,
   "metadata": {},
   "outputs": [],
   "source": [
    "# update_one은 조건에 부합하는 데이터가 여러개이더라도 하나의 값만 바뀜\n",
    "# 조건에 맞는 모든 데이터를 바꾸고 싶다면 update_many를 사용함.\n",
    "result = db.emp.update_many(\n",
    "    {\n",
    "        \"ENAME\" : \"ALLEN\"\n",
    "    },\n",
    "    {\n",
    "        \"$set\" : {\n",
    "            \"SAL\" : 2000\n",
    "        }\n",
    "    }\n",
    ")\n"
   ]
  },
  {
   "cell_type": "code",
   "execution_count": 14,
   "metadata": {},
   "outputs": [
    {
     "data": {
      "text/html": [
       "<div>\n",
       "<style scoped>\n",
       "    .dataframe tbody tr th:only-of-type {\n",
       "        vertical-align: middle;\n",
       "    }\n",
       "\n",
       "    .dataframe tbody tr th {\n",
       "        vertical-align: top;\n",
       "    }\n",
       "\n",
       "    .dataframe thead th {\n",
       "        text-align: right;\n",
       "    }\n",
       "</style>\n",
       "<table border=\"1\" class=\"dataframe\">\n",
       "  <thead>\n",
       "    <tr style=\"text-align: right;\">\n",
       "      <th></th>\n",
       "      <th>_id</th>\n",
       "      <th>EMPNO</th>\n",
       "      <th>ENAME</th>\n",
       "      <th>JOB</th>\n",
       "      <th>MGR</th>\n",
       "      <th>HIREDATE</th>\n",
       "      <th>SAL</th>\n",
       "      <th>COMM</th>\n",
       "      <th>DEPTNO</th>\n",
       "    </tr>\n",
       "  </thead>\n",
       "  <tbody>\n",
       "    <tr>\n",
       "      <th>0</th>\n",
       "      <td>6232b71828e9c474dad71b3d</td>\n",
       "      <td>7499</td>\n",
       "      <td>ALLEN</td>\n",
       "      <td>SALESMAN</td>\n",
       "      <td>7698</td>\n",
       "      <td>1981-02-20</td>\n",
       "      <td>2000</td>\n",
       "      <td>300.00</td>\n",
       "      <td>30</td>\n",
       "    </tr>\n",
       "    <tr>\n",
       "      <th>1</th>\n",
       "      <td>6232c6cd28e9c474dad71b4b</td>\n",
       "      <td>7499</td>\n",
       "      <td>ALLEN</td>\n",
       "      <td>SALESMAN</td>\n",
       "      <td>7698</td>\n",
       "      <td>1981-02-20</td>\n",
       "      <td>2000</td>\n",
       "      <td>300</td>\n",
       "      <td>30</td>\n",
       "    </tr>\n",
       "  </tbody>\n",
       "</table>\n",
       "</div>"
      ],
      "text/plain": [
       "                        _id EMPNO  ENAME       JOB   MGR    HIREDATE   SAL  \\\n",
       "0  6232b71828e9c474dad71b3d  7499  ALLEN  SALESMAN  7698  1981-02-20  2000   \n",
       "1  6232c6cd28e9c474dad71b4b  7499  ALLEN  SALESMAN  7698  1981-02-20  2000   \n",
       "\n",
       "     COMM DEPTNO  \n",
       "0  300.00     30  \n",
       "1     300     30  "
      ]
     },
     "execution_count": 14,
     "metadata": {},
     "output_type": "execute_result"
    }
   ],
   "source": [
    "result = db.emp.find({\n",
    "    \"ENAME\" : \"ALLEN\"\n",
    "})\n",
    "\n",
    "pd.DataFrame(result)"
   ]
  },
  {
   "cell_type": "code",
   "execution_count": 15,
   "metadata": {},
   "outputs": [],
   "source": [
    "result = db.emp.delete_one(\n",
    "    {\n",
    "        \"JOB\" : \"PRESIDENT\"\n",
    "    }\n",
    ")\n"
   ]
  },
  {
   "cell_type": "code",
   "execution_count": 16,
   "metadata": {},
   "outputs": [
    {
     "data": {
      "text/html": [
       "<div>\n",
       "<style scoped>\n",
       "    .dataframe tbody tr th:only-of-type {\n",
       "        vertical-align: middle;\n",
       "    }\n",
       "\n",
       "    .dataframe tbody tr th {\n",
       "        vertical-align: top;\n",
       "    }\n",
       "\n",
       "    .dataframe thead th {\n",
       "        text-align: right;\n",
       "    }\n",
       "</style>\n",
       "<table border=\"1\" class=\"dataframe\">\n",
       "  <thead>\n",
       "    <tr style=\"text-align: right;\">\n",
       "      <th></th>\n",
       "      <th>_id</th>\n",
       "      <th>EMPNO</th>\n",
       "      <th>ENAME</th>\n",
       "      <th>JOB</th>\n",
       "      <th>HIREDATE</th>\n",
       "      <th>SAL</th>\n",
       "      <th>DEPTNO</th>\n",
       "    </tr>\n",
       "  </thead>\n",
       "  <tbody>\n",
       "    <tr>\n",
       "      <th>0</th>\n",
       "      <td>6232c6cd28e9c474dad71b52</td>\n",
       "      <td>7839</td>\n",
       "      <td>KING</td>\n",
       "      <td>PRESIDENT</td>\n",
       "      <td>1981-11-17</td>\n",
       "      <td>5000</td>\n",
       "      <td>10</td>\n",
       "    </tr>\n",
       "  </tbody>\n",
       "</table>\n",
       "</div>"
      ],
      "text/plain": [
       "                        _id  EMPNO ENAME        JOB    HIREDATE   SAL  DEPTNO\n",
       "0  6232c6cd28e9c474dad71b52   7839  KING  PRESIDENT  1981-11-17  5000      10"
      ]
     },
     "execution_count": 16,
     "metadata": {},
     "output_type": "execute_result"
    }
   ],
   "source": [
    "result = db.emp.find({\n",
    "    \"JOB\" : \"PRESIDENT\"\n",
    "})\n",
    "\n",
    "pd.DataFrame(result)"
   ]
  },
  {
   "cell_type": "code",
   "execution_count": 18,
   "metadata": {},
   "outputs": [
    {
     "data": {
      "text/html": [
       "<div>\n",
       "<style scoped>\n",
       "    .dataframe tbody tr th:only-of-type {\n",
       "        vertical-align: middle;\n",
       "    }\n",
       "\n",
       "    .dataframe tbody tr th {\n",
       "        vertical-align: top;\n",
       "    }\n",
       "\n",
       "    .dataframe thead th {\n",
       "        text-align: right;\n",
       "    }\n",
       "</style>\n",
       "<table border=\"1\" class=\"dataframe\">\n",
       "  <thead>\n",
       "    <tr style=\"text-align: right;\">\n",
       "      <th></th>\n",
       "      <th>_id</th>\n",
       "      <th>EMPNO</th>\n",
       "      <th>ENAME</th>\n",
       "      <th>JOB</th>\n",
       "      <th>HIREDATE</th>\n",
       "      <th>SAL</th>\n",
       "      <th>DEPTNO</th>\n",
       "    </tr>\n",
       "  </thead>\n",
       "  <tbody>\n",
       "    <tr>\n",
       "      <th>0</th>\n",
       "      <td>6232c6cd28e9c474dad71b52</td>\n",
       "      <td>7839</td>\n",
       "      <td>KING</td>\n",
       "      <td>PRESIDENT</td>\n",
       "      <td>1981-11-17</td>\n",
       "      <td>5000</td>\n",
       "      <td>10</td>\n",
       "    </tr>\n",
       "  </tbody>\n",
       "</table>\n",
       "</div>"
      ],
      "text/plain": [
       "                        _id  EMPNO ENAME        JOB    HIREDATE   SAL  DEPTNO\n",
       "0  6232c6cd28e9c474dad71b52   7839  KING  PRESIDENT  1981-11-17  5000      10"
      ]
     },
     "execution_count": 18,
     "metadata": {},
     "output_type": "execute_result"
    }
   ],
   "source": [
    "result = db.emp.find({\n",
    "    \"ENAME\" : \"KING\"\n",
    "})\n",
    "\n",
    "pd.DataFrame(result)"
   ]
  },
  {
   "cell_type": "code",
   "execution_count": 19,
   "metadata": {},
   "outputs": [],
   "source": [
    "result = db.emp.delete_many(\n",
    "    {\n",
    "        \"ENAME\" : \"MILLER\"\n",
    "    }\n",
    ")\n"
   ]
  },
  {
   "cell_type": "code",
   "execution_count": 20,
   "metadata": {},
   "outputs": [
    {
     "data": {
      "text/html": [
       "<div>\n",
       "<style scoped>\n",
       "    .dataframe tbody tr th:only-of-type {\n",
       "        vertical-align: middle;\n",
       "    }\n",
       "\n",
       "    .dataframe tbody tr th {\n",
       "        vertical-align: top;\n",
       "    }\n",
       "\n",
       "    .dataframe thead th {\n",
       "        text-align: right;\n",
       "    }\n",
       "</style>\n",
       "<table border=\"1\" class=\"dataframe\">\n",
       "  <thead>\n",
       "    <tr style=\"text-align: right;\">\n",
       "      <th></th>\n",
       "    </tr>\n",
       "  </thead>\n",
       "  <tbody>\n",
       "  </tbody>\n",
       "</table>\n",
       "</div>"
      ],
      "text/plain": [
       "Empty DataFrame\n",
       "Columns: []\n",
       "Index: []"
      ]
     },
     "execution_count": 20,
     "metadata": {},
     "output_type": "execute_result"
    }
   ],
   "source": [
    "result = db.emp.find({\n",
    "    \"ENAME\" : \"MILLER\"\n",
    "})\n",
    "\n",
    "pd.DataFrame(result)"
   ]
  },
  {
   "cell_type": "markdown",
   "metadata": {},
   "source": []
  }
 ],
 "metadata": {
  "interpreter": {
   "hash": "0b670cee65caf78ddcc137c483014aacdcafe88c2d6d2a284d13df6884eec2b6"
  },
  "kernelspec": {
   "display_name": "Python 3.10.2 64-bit",
   "language": "python",
   "name": "python3"
  },
  "language_info": {
   "codemirror_mode": {
    "name": "ipython",
    "version": 3
   },
   "file_extension": ".py",
   "mimetype": "text/x-python",
   "name": "python",
   "nbconvert_exporter": "python",
   "pygments_lexer": "ipython3",
   "version": "3.10.2"
  },
  "orig_nbformat": 4
 },
 "nbformat": 4,
 "nbformat_minor": 2
}
